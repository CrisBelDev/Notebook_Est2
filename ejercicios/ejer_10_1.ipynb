{
 "cells": [
  {
   "cell_type": "markdown",
   "metadata": {},
   "source": [
    "1. Los resultados siguientes provienen de muestras aleatorias simples independientes tomadas de dos poblaciones.\n",
    "\n",
    "| Muestra 1 | Muestra 2 |\n",
    "|-----------|-----------|\n",
    "| n1 = 50   | n2 = 35   |\n",
    "| x̄1 = 13.6 | x̄2 = 11.6 |\n",
    "| s1 = 2.2  | s2 = 3.0  |\n",
    "\n",
    "a) ¿Cuál es la estimación puntual de la diferencia entre las dos medias poblacionales?"
   ]
  },
  {
   "cell_type": "code",
   "execution_count": 1,
   "metadata": {},
   "outputs": [
    {
     "name": "stdout",
     "output_type": "stream",
     "text": [
      "Estimación puntual (a): 2.0\n"
     ]
    }
   ],
   "source": [
    "# Datos de las muestras\n",
    "n1, x_bar1, s1 = 50, 13.6, 2.2\n",
    "n2, x_bar2, s2 = 35, 11.6, 3.0\n",
    "\n",
    "# Estimación puntual de la diferencia de medias\n",
    "point_estimate = x_bar1 - x_bar2\n",
    "print(f\"Estimación puntual (a): {point_estimate}\")\n"
   ]
  },
  {
   "cell_type": "markdown",
   "metadata": {},
   "source": [
    "b) Proporcione un intervalo de 90% de confianza para la diferencia entre las dos medias poblacionales."
   ]
  },
  {
   "cell_type": "code",
   "execution_count": 2,
   "metadata": {},
   "outputs": [
    {
     "name": "stdout",
     "output_type": "stream",
     "text": [
      "Z:  1.6448536269514722\n",
      "Margen error Z:  0.978574361132911\n",
      "Intervalo confianza:  (1.021425638867089, 2.978574361132911)\n"
     ]
    }
   ],
   "source": [
    "from scipy import stats\n",
    "import numpy as np\n",
    "\n",
    "# Datos proporcionados\n",
    "n1 = 50  # Tamaño de la muestra 1\n",
    "x1 = 13.6  # Media muestral 1\n",
    "s1 = 2.2  # Desviación estándar muestral 1\n",
    "\n",
    "n2 = 35  # Tamaño de la muestra 2\n",
    "x2 = 11.6  # Media muestral 2\n",
    "s2 = 3.0  # Desviación estándar muestral 2\n",
    "\n",
    "z = 0.90 # z al 90%\n",
    "\n",
    "def calcular_intervalo_confianza(n1, x1, s1, n2, x2, s2, confianza):\n",
    "    # Estimación puntual de la diferencia entre las medias poblacionales\n",
    "    estimacion_puntual = x1 - x2\n",
    "    \n",
    "    # Valor z para el intervalo de confianza dado\n",
    "    z_value = stats.norm.ppf(1 - (1 - confianza) / 2)\n",
    "    \n",
    "    # Cálculo del margen de error con el valor z\n",
    "    error_margin = z_value * np.sqrt((s1**2 / n1) + (s2**2 / n2))\n",
    "    \n",
    "    # Intervalo de confianza con el valor z\n",
    "    intervalo_confianza = (estimacion_puntual - error_margin, estimacion_puntual + error_margin)\n",
    "    print(\"Z: \",z_value)\n",
    "    print(\"Margen error Z: \",error_margin)\n",
    "    print(\"Intervalo confianza: \",intervalo_confianza)\n",
    "\n",
    "calcular_intervalo_confianza(n1,x1,s1,n2,x2,s2,z)\n",
    "\n"
   ]
  },
  {
   "cell_type": "markdown",
   "metadata": {},
   "source": [
    "c) Proporcione un intervalo de 95% de confianza para la diferencia entre las dos medias poblacionales."
   ]
  },
  {
   "cell_type": "code",
   "execution_count": 3,
   "metadata": {},
   "outputs": [
    {
     "name": "stdout",
     "output_type": "stream",
     "text": [
      "Z:  1.959963984540054\n",
      "Margen error Z:  1.1660432713210558\n",
      "Intervalo confianza:  (0.8339567286789442, 3.1660432713210556)\n"
     ]
    }
   ],
   "source": [
    "# Datos proporcionados\n",
    "n1 = 50  # Tamaño de la muestra 1\n",
    "x1 = 13.6  # Media muestral 1\n",
    "s1 = 2.2  # Desviación estándar muestral 1\n",
    "\n",
    "n2 = 35  # Tamaño de la muestra 2\n",
    "x2 = 11.6  # Media muestral 2\n",
    "s2 = 3.0  # Desviación estándar muestral 2\n",
    "\n",
    "z = 0.95 # z al 95%\n",
    "calcular_intervalo_confianza(n1,x1,s1,n2,x2,s2,z)"
   ]
  }
 ],
 "metadata": {
  "kernelspec": {
   "display_name": "env",
   "language": "python",
   "name": "python3"
  },
  "language_info": {
   "codemirror_mode": {
    "name": "ipython",
    "version": 3
   },
   "file_extension": ".py",
   "mimetype": "text/x-python",
   "name": "python",
   "nbconvert_exporter": "python",
   "pygments_lexer": "ipython3",
   "version": "3.10.11"
  }
 },
 "nbformat": 4,
 "nbformat_minor": 2
}
