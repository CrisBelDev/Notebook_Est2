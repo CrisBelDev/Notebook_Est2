{
 "cells": [
  {
   "cell_type": "markdown",
   "metadata": {},
   "source": [
    "## 2. Considere la prueba de hipótesis que se da a continuación.\n",
    "\n",
    "$$\\textbf{H}_0: \\mu_1 - \\mu_2 \\leq 0$$\n",
    "\n",
    "$$\\textbf{H}_a: \\mu_1 - \\mu_2 > 0$$\n",
    "\n",
    "Los resultados siguientes se obtuvieron de dos muestras independientes tomadas de dos poblaciones.\n",
    "\n",
    "|            | Muestra 1 | Muestra 2 |\n",
    "|------------|-----------|-----------|\n",
    "| n          | 40        | 50        |\n",
    "| $\\bar{x} $ | 25.2      | 22.8      |\n",
    "| $\\sigma$ | 5.2       | 6.0       |\n"
   ]
  },
  {
   "cell_type": "code",
   "execution_count": 10,
   "metadata": {},
   "outputs": [
    {
     "name": "stdout",
     "output_type": "stream",
     "text": [
      "Requirement already satisfied: numpy in c:\\users\\chicho\\desktop\\notebook_est2\\env\\lib\\site-packages (1.26.2)\n",
      "Requirement already satisfied: scipy in c:\\users\\chicho\\desktop\\notebook_est2\\env\\lib\\site-packages (1.11.4)\n",
      "Requirement already satisfied: numpy<1.28.0,>=1.21.6 in c:\\users\\chicho\\desktop\\notebook_est2\\env\\lib\\site-packages (from scipy) (1.26.2)\n"
     ]
    }
   ],
   "source": [
    "dependencies = [\n",
    "    \"numpy\",\n",
    "    \"scipy\"\n",
    "    # Añade más dependencias según sea necesario\n",
    "]\n",
    "\n",
    "import sys\n",
    "for package in dependencies:\n",
    "    !{sys.executable} -m pip install {package}\n"
   ]
  },
  {
   "cell_type": "markdown",
   "metadata": {},
   "source": [
    "Pregunta 1: ¿Cuál es el valor del estadístico de prueba?"
   ]
  },
  {
   "cell_type": "code",
   "execution_count": 3,
   "metadata": {},
   "outputs": [
    {
     "data": {
      "text/plain": [
       "1.9990915284564201"
      ]
     },
     "execution_count": 3,
     "metadata": {},
     "output_type": "execute_result"
    }
   ],
   "source": [
    "import numpy as np\n",
    "\n",
    "# Datos de las muestras\n",
    "n1 = 40  # Tamaño de la muestra 1\n",
    "x_bar1 = 25.2  # Media de la muestra 1\n",
    "s1 = 5.2  # Desviación estándar de la muestra 1\n",
    "n2 = 50  # Tamaño de la muestra 2\n",
    "x_bar2 = 22.8  # Media de la muestra 2\n",
    "s2 = 6.0  # Desviación estándar de la muestra 2\n",
    "\n",
    "# Cálculo de la varianza combinada (sp^2)\n",
    "sp_squared = ((n1 - 1) * s1**2 + (n2 - 1) * s2**2) / (n1 + n2 - 2)\n",
    "\n",
    "# Cálculo del estadístico de prueba (t-score)\n",
    "t_score = (x_bar1 - x_bar2) / np.sqrt(sp_squared * (1/n1 + 1/n2))\n",
    "t_score\n"
   ]
  },
  {
   "cell_type": "markdown",
   "metadata": {},
   "source": [
    "Pregunta 2: ¿Cuál es el valor-p?"
   ]
  },
  {
   "cell_type": "code",
   "execution_count": 4,
   "metadata": {},
   "outputs": [
    {
     "data": {
      "text/plain": [
       "0.02434194832163234"
      ]
     },
     "execution_count": 4,
     "metadata": {},
     "output_type": "execute_result"
    }
   ],
   "source": [
    "from scipy import stats\n",
    "\n",
    "# Grados de libertad\n",
    "df = n1 + n2 - 2\n",
    "\n",
    "# Cálculo del valor-p usando la distribución t con los grados de libertad calculados\n",
    "p_value = stats.t.sf(t_score, df)\n",
    "p_value\n"
   ]
  },
  {
   "cell_type": "markdown",
   "metadata": {},
   "source": [
    "Pregunta 3: Si  α=0.05, ¿cuál es la conclusión de la prueba de hipótesis?"
   ]
  },
  {
   "cell_type": "code",
   "execution_count": 12,
   "metadata": {},
   "outputs": [
    {
     "data": {
      "text/plain": [
       "'Rechazamos la hipótesis nula'"
      ]
     },
     "execution_count": 12,
     "metadata": {},
     "output_type": "execute_result"
    }
   ],
   "source": [
    "# Nivel de significancia\n",
    "alpha = 0.05\n",
    "\n",
    "# Conclusión de la prueba de hipótesis\n",
    "conclusion = \"Rechazamos la hipótesis nula\" if p_value < alpha else \"No rechazamos la hipótesis nula\"\n",
    "conclusion\n"
   ]
  }
 ],
 "metadata": {
  "kernelspec": {
   "display_name": "env",
   "language": "python",
   "name": "python3"
  },
  "language_info": {
   "codemirror_mode": {
    "name": "ipython",
    "version": 3
   },
   "file_extension": ".py",
   "mimetype": "text/x-python",
   "name": "python",
   "nbconvert_exporter": "python",
   "pygments_lexer": "ipython3",
   "version": "3.10.11"
  }
 },
 "nbformat": 4,
 "nbformat_minor": 2
}
