{
 "cells": [
  {
   "cell_type": "markdown",
   "metadata": {},
   "source": [
    "## 4. Aplicacion\n",
    "\n",
    "**Condé Nast Traveler** realiza una encuesta anual en la que los lectores califican su crucero favorito. Los navíos se califican en una escala de 100 puntos, donde los valores más altos indican un mejor servicio. Una muestra de 37 cruceros que transportan menos de 500 pasajeros resultó con una calificación promedio de 85.36 y una muestra de 44 navíos que transportan 500 o más pasajeros recibió una calificación promedio de 81.40 (*Condé Nast Traveler*, febrero de 2008). Suponga que la desviación estándar poblacional es 4.55 para los cruceros que transportan a menos de 500 pasajeros y 3.97 para los que transportan a 500 o más pasajeros."
   ]
  },
  {
   "cell_type": "code",
   "execution_count": 3,
   "metadata": {},
   "outputs": [
    {
     "name": "stdout",
     "output_type": "stream",
     "text": [
      "Requirement already satisfied: numpy in c:\\users\\chicho\\desktop\\ebook-estadistica2\\env\\lib\\site-packages (1.26.2)\n",
      "Requirement already satisfied: scipy in c:\\users\\chicho\\desktop\\ebook-estadistica2\\env\\lib\\site-packages (1.11.4)\n",
      "Requirement already satisfied: numpy<1.28.0,>=1.21.6 in c:\\users\\chicho\\desktop\\ebook-estadistica2\\env\\lib\\site-packages (from scipy) (1.26.2)\n"
     ]
    }
   ],
   "source": [
    "dependencies = [\n",
    "    \"numpy\",\n",
    "    \"scipy\"\n",
    "    # Añade más dependencias según sea necesario\n",
    "]\n",
    "\n",
    "import sys\n",
    "for package in dependencies:\n",
    "    !{sys.executable} -m pip install {package}\n"
   ]
  },
  {
   "cell_type": "markdown",
   "metadata": {},
   "source": [
    "a) ¿Cuál es la estimación puntual de la diferencia entre la calificación media poblacional de los navíos que transportan menos de 500 pasajeros y la calificación media poblacional de los que transportan 500 o más personas?"
   ]
  },
  {
   "cell_type": "code",
   "execution_count": 4,
   "metadata": {},
   "outputs": [
    {
     "data": {
      "text/plain": [
       "3.9599999999999937"
      ]
     },
     "execution_count": 4,
     "metadata": {},
     "output_type": "execute_result"
    }
   ],
   "source": [
    "# Calificaciones medias de las muestras\n",
    "x_bar1 = 85.36  # Media de la muestra de cruceros con menos de 500 pasajeros\n",
    "x_bar2 = 81.40  # Media de la muestra de cruceros con 500 o más pasajeros\n",
    "\n",
    "# Diferencia de medias\n",
    "diferencia_medias = x_bar1 - x_bar2\n",
    "diferencia_medias\n"
   ]
  },
  {
   "cell_type": "markdown",
   "metadata": {},
   "source": [
    "b) ¿Cuál es el margen de error con 95% de confianza?"
   ]
  },
  {
   "cell_type": "code",
   "execution_count": 6,
   "metadata": {},
   "outputs": [
    {
     "data": {
      "text/plain": [
       "1.8776100003862883"
      ]
     },
     "execution_count": 6,
     "metadata": {},
     "output_type": "execute_result"
    }
   ],
   "source": [
    "from scipy.stats import norm\n",
    "import numpy as np\n",
    "\n",
    "# Desviaciones estándar poblacionales\n",
    "sigma1 = 4.55  # Cruceros con menos de 500 pasajeros\n",
    "sigma2 = 3.97  # Cruceros con 500 o más pasajeros\n",
    "\n",
    "# Tamaños de muestra\n",
    "n1 = 37  # Cruceros con menos de 500 pasajeros\n",
    "n2 = 44  # Cruceros con 500 o más pasajeros\n",
    "\n",
    "# Z-score para 95% de confianza\n",
    "z_score = norm.ppf(0.975)  # Dos colas\n",
    "\n",
    "# Margen de error\n",
    "margen_error = z_score * np.sqrt(sigma1**2 / n1 + sigma2**2 / n2)\n",
    "margen_error\n"
   ]
  },
  {
   "cell_type": "markdown",
   "metadata": {},
   "source": [
    "c) ¿Cuál es la estimación por intervalo de 95% de confianza para la diferencia entre las calificaciones medias poblacionales de ambos tamaños de cruceros?"
   ]
  },
  {
   "cell_type": "code",
   "execution_count": null,
   "metadata": {},
   "outputs": [
    {
     "data": {
      "text/plain": [
       "'No rechazamos la hipótesis nula'"
      ]
     },
     "execution_count": 4,
     "metadata": {},
     "output_type": "execute_result"
    }
   ],
   "source": [
    "# Intervalo de confianza\n",
    "intervalo_confianza = (diferencia_medias - margen_error, diferencia_medias + margen_error)\n",
    "intervalo_confianza\n"
   ]
  }
 ],
 "metadata": {
  "kernelspec": {
   "display_name": "env",
   "language": "python",
   "name": "python3"
  },
  "language_info": {
   "codemirror_mode": {
    "name": "ipython",
    "version": 3
   },
   "file_extension": ".py",
   "mimetype": "text/x-python",
   "name": "python",
   "nbconvert_exporter": "python",
   "pygments_lexer": "ipython3",
   "version": "3.10.11"
  }
 },
 "nbformat": 4,
 "nbformat_minor": 2
}
