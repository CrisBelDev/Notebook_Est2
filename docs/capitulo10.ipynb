{
 "cells": [
  {
   "cell_type": "markdown",
   "metadata": {
    "colab_type": "text",
    "id": "view-in-github"
   },
   "source": [
    "<a href=\"https://colab.research.google.com/github/CrisBelDev/Notebook_Est2/blob/main/notebook_est2.ipynb\" target=\"_parent\"><img src=\"https://colab.research.google.com/assets/colab-badge.svg\" alt=\"Open In Colab\"/></a>"
   ]
  },
  {
   "cell_type": "markdown",
   "metadata": {
    "id": "JHSPrGHpkWWT"
   },
   "source": [
    "# Capitulo 10: **Inferencia estadística de medias y proporciones con 2 poblaciones**"
   ]
  },
  {
   "cell_type": "markdown",
   "metadata": {
    "id": "_8euGoABkWWX"
   },
   "source": [
    "## Inferencias acerca de la diferencia entre dos medias poblacionales: ($\\sigma_1$ y $\\sigma_2$ conocidas)"
   ]
  },
  {
   "cell_type": "markdown",
   "metadata": {},
   "source": [
    "- Sean $\\sigma_1$ y $\\sigma_2$ las medias poblacionales a estudiar.\n",
    "- La inferencia se realiza sobre la diferencia de las medias $\\mu_1 - \\mu_2$.\n",
    "- Se toma un tamaño de muestra para cada población (muestra aleatoria simple e independiente) $n_1$ y $n_2$ respectivamente.\n",
    "- Suponga que $\\sigma_1$ y $\\sigma_2$ son conocidas.\n",
    "\n",
    "Las medias poblacionales son teóricas. En la práctica se calculan las medias muestrales $\\bar{x_1}$ y $\\bar{x_2}$."
   ]
  },
  {
   "cell_type": "markdown",
   "metadata": {},
   "source": [
    "### **estimador puntual** de la diferencia de dos medias poblacionales:\n"
   ]
  },
  {
   "cell_type": "markdown",
   "metadata": {},
   "source": [
    "  $$ \\bar{x_1} - \\bar{x_2} $$"
   ]
  },
  {
   "cell_type": "markdown",
   "metadata": {
    "id": "KjSdy0w8kWWY"
   },
   "source": [
    "### $\\textbf{Error estandar}$ del estimador puntual:\n"
   ]
  },
  {
   "cell_type": "markdown",
   "metadata": {},
   "source": [
    "$$\\sigma_{\\bar{x}_1 - \\bar{x}_2} = \\sqrt{\\frac{\\sigma_1^2}{n_1} + \\frac{\\sigma_2^2}{n_2}}$$"
   ]
  },
  {
   "cell_type": "markdown",
   "metadata": {},
   "source": [
    "### Estimacion por intervalo de la diferencia entre dos medias poblacionales con $\\sigma_1$, $\\sigma_2$ conocidas:"
   ]
  },
  {
   "cell_type": "markdown",
   "metadata": {},
   "source": [
    "$$\\text{Margen de error} = z_{\\alpha/2} \\sigma_{\\bar{x}_1 - \\bar{x}_2} = z_{\\alpha/2} \\sqrt{\\frac{\\sigma_1^2}{n_1} + \\frac{\\sigma_2^2}{n_2}}$$"
   ]
  },
  {
   "cell_type": "markdown",
   "metadata": {},
   "source": [
    "### Estimación por intervalo de la diferencia entre dos medias poblacionales: $\\sigma_1$ Y $\\sigma_2$ conocidas:\n"
   ]
  },
  {
   "cell_type": "markdown",
   "metadata": {},
   "source": [
    "  $$\\bar{x}_1 - \\bar{x}_2 \\pm z_{\\alpha/2} \\sqrt{\\frac{\\sigma_1^2}{n_1} + \\frac{\\sigma_2^2}{n_2}}$$\n",
    "  - donde 1 - $\\alpha/2$ es el coeficiente de confianza."
   ]
  },
  {
   "cell_type": "markdown",
   "metadata": {},
   "source": [
    "### Pruebas de hipótesis"
   ]
  },
  {
   "cell_type": "markdown",
   "metadata": {},
   "source": [
    "$$ H_0 : \\mu_1 - \\mu_2 \\geq D_0 \\quad H_0: \\mu_1 - \\mu_2\\leq D_0 \\quad H_0: \\mu_1 - \\mu_2 = D_0$$\n",
    "$$ H_a : \\mu_1 - \\mu_2 < D_0 \\quad H_a: \\mu_1 - \\mu_2 > D_0 \\quad H_a: \\mu_1 - \\mu_2 \\neq D_0$$"
   ]
  },
  {
   "cell_type": "markdown",
   "metadata": {},
   "source": [
    "Ejercicio:"
   ]
  },
  {
   "cell_type": "markdown",
   "metadata": {},
   "source": [
    "1. Los resultados siguientes provienen de muestras aleatorias simples independientes tomadas de dos poblaciones.\n",
    "\n",
    "| Muestra 1 | Muestra 2 |\n",
    "|-----------|-----------|\n",
    "| n1 = 50   | n2 = 35   |\n",
    "| x̄1 = 13.6 | x̄2 = 11.6 |\n",
    "| s1 = 2.2  | s2 = 3.0  |\n"
   ]
  },
  {
   "cell_type": "markdown",
   "metadata": {},
   "source": [
    "a) ¿Cuál es la estimación puntual de la diferencia entre las dos medias poblacionales?"
   ]
  },
  {
   "cell_type": "code",
   "execution_count": 35,
   "metadata": {},
   "outputs": [
    {
     "name": "stdout",
     "output_type": "stream",
     "text": [
      "Estimación puntual (a): 2.0\n"
     ]
    }
   ],
   "source": [
    "# Datos de las muestras\n",
    "n1, x_bar1, s1 = 50, 13.6, 2.2\n",
    "n2, x_bar2, s2 = 35, 11.6, 3.0\n",
    "\n",
    "# Estimación puntual de la diferencia de medias\n",
    "point_estimate = x_bar1 - x_bar2\n",
    "print(f\"Estimación puntual (a): {point_estimate}\")\n"
   ]
  },
  {
   "cell_type": "markdown",
   "metadata": {},
   "source": [
    "b) Proporcione un intervalo de 90% de confianza para la diferencia entre las dos medias poblacionales."
   ]
  },
  {
   "cell_type": "code",
   "execution_count": 36,
   "metadata": {},
   "outputs": [
    {
     "name": "stdout",
     "output_type": "stream",
     "text": [
      "Z:  1.6448536269514722\n",
      "Margen error Z:  0.978574361132911\n",
      "Intervalo confianza:  (1.021425638867089, 2.978574361132911)\n"
     ]
    }
   ],
   "source": [
    "from scipy import stats\n",
    "import numpy as np\n",
    "\n",
    "# Datos proporcionados\n",
    "n1 = 50  # Tamaño de la muestra 1\n",
    "x1 = 13.6  # Media muestral 1\n",
    "s1 = 2.2  # Desviación estándar muestral 1\n",
    "\n",
    "n2 = 35  # Tamaño de la muestra 2\n",
    "x2 = 11.6  # Media muestral 2\n",
    "s2 = 3.0  # Desviación estándar muestral 2\n",
    "\n",
    "z = 0.90 # z al 90%\n",
    "\n",
    "def calcular_intervalo_confianza(n1, x1, s1, n2, x2, s2, confianza):\n",
    "    # Estimación puntual de la diferencia entre las medias poblacionales\n",
    "    estimacion_puntual = x1 - x2\n",
    "    \n",
    "    # Valor z para el intervalo de confianza dado\n",
    "    z_value = stats.norm.ppf(1 - (1 - confianza) / 2)\n",
    "    \n",
    "    # Cálculo del margen de error con el valor z\n",
    "    error_margin = z_value * np.sqrt((s1**2 / n1) + (s2**2 / n2))\n",
    "    \n",
    "    # Intervalo de confianza con el valor z\n",
    "    intervalo_confianza = (estimacion_puntual - error_margin, estimacion_puntual + error_margin)\n",
    "    print(\"Z: \",z_value)\n",
    "    print(\"Margen error Z: \",error_margin)\n",
    "    print(\"Intervalo confianza: \",intervalo_confianza)\n",
    "\n",
    "calcular_intervalo_confianza(n1,x1,s1,n2,x2,s2,z)\n",
    "\n"
   ]
  },
  {
   "cell_type": "markdown",
   "metadata": {},
   "source": [
    "c) Proporcione un intervalo de 95% de confianza para la diferencia entre las dos medias poblacionales."
   ]
  },
  {
   "cell_type": "code",
   "execution_count": 37,
   "metadata": {},
   "outputs": [
    {
     "name": "stdout",
     "output_type": "stream",
     "text": [
      "Z:  1.959963984540054\n",
      "Margen error Z:  1.1660432713210558\n",
      "Intervalo confianza:  (0.8339567286789442, 3.1660432713210556)\n"
     ]
    }
   ],
   "source": [
    "# Datos proporcionados\n",
    "n1 = 50  # Tamaño de la muestra 1\n",
    "x1 = 13.6  # Media muestral 1\n",
    "s1 = 2.2  # Desviación estándar muestral 1\n",
    "\n",
    "n2 = 35  # Tamaño de la muestra 2\n",
    "x2 = 11.6  # Media muestral 2\n",
    "s2 = 3.0  # Desviación estándar muestral 2\n",
    "\n",
    "z = 0.95 # z al 95%\n",
    "calcular_intervalo_confianza(n1,x1,s1,n2,x2,s2,z)"
   ]
  }
 ],
 "metadata": {
  "colab": {
   "include_colab_link": true,
   "provenance": [],
   "toc_visible": true
  },
  "kernelspec": {
   "display_name": "Python 3 (ipykernel)",
   "language": "python",
   "name": "python3"
  },
  "language_info": {
   "codemirror_mode": {
    "name": "ipython",
    "version": 3
   },
   "file_extension": ".py",
   "mimetype": "text/x-python",
   "name": "python",
   "nbconvert_exporter": "python",
   "pygments_lexer": "ipython3",
   "version": "3.10.11"
  }
 },
 "nbformat": 4,
 "nbformat_minor": 1
}
