{
 "cells": [
  {
   "cell_type": "markdown",
   "metadata": {
    "colab_type": "text",
    "id": "view-in-github"
   },
   "source": [
    "<a href=\"https://colab.research.google.com/github/CrisBelDev/Notebook_Est2/blob/main/notebook_est2.ipynb\" target=\"_parent\"><img src=\"https://colab.research.google.com/assets/colab-badge.svg\" alt=\"Open In Colab\"/></a>"
   ]
  },
  {
   "cell_type": "markdown",
   "metadata": {
    "id": "JHSPrGHpkWWT"
   },
   "source": [
    "# Capitulo 10: **Inferencia estadística de medias y proporciones con 2 poblaciones**"
   ]
  },
  {
   "cell_type": "markdown",
   "metadata": {
    "id": "_8euGoABkWWX"
   },
   "source": [
    "## Inferencias acerca de la diferencia entre dos medias poblacionales: ($\\sigma_1$ y $\\sigma_2$ conocidas)"
   ]
  },
  {
   "cell_type": "markdown",
   "metadata": {},
   "source": [
    "- Sean $\\sigma_1$ y $\\sigma_2$ las medias poblacionales a estudiar.\n",
    "- La inferencia se realiza sobre la diferencia de las medias $\\mu_1 - \\mu_2$.\n",
    "- Se toma un tamaño de muestra para cada población (muestra aleatoria simple e independiente) $n_1$ y $n_2$ respectivamente.\n",
    "- Suponga que $\\sigma_1$ y $\\sigma_2$ son conocidas.\n",
    "\n",
    "Las medias poblacionales son teóricas. En la práctica se calculan las medias muestrales $\\bar{x_1}$ y $\\bar{x_2}$."
   ]
  },
  {
   "cell_type": "markdown",
   "metadata": {},
   "source": [
    "### **estimador puntual** de la diferencia de dos medias poblacionales:\n"
   ]
  },
  {
   "cell_type": "markdown",
   "metadata": {},
   "source": [
    "  $$ \\bar{x_1} - \\bar{x_2} $$"
   ]
  },
  {
   "cell_type": "markdown",
   "metadata": {
    "id": "KjSdy0w8kWWY"
   },
   "source": [
    "### $\\textbf{Error estandar}$ del estimador puntual:\n"
   ]
  },
  {
   "cell_type": "markdown",
   "metadata": {},
   "source": [
    "$$\\sigma_{\\bar{x}_1 - \\bar{x}_2} = \\sqrt{\\frac{\\sigma_1^2}{n_1} + \\frac{\\sigma_2^2}{n_2}}$$"
   ]
  },
  {
   "cell_type": "markdown",
   "metadata": {},
   "source": [
    "### Estimacion por intervalo de la diferencia entre dos medias poblacionales con $\\sigma_1$, $\\sigma_2$ conocidas:"
   ]
  },
  {
   "cell_type": "markdown",
   "metadata": {},
   "source": [
    "$$\\text{Margen de error} = z_{\\alpha/2} \\sigma_{\\bar{x}_1 - \\bar{x}_2} = z_{\\alpha/2} \\sqrt{\\frac{\\sigma_1^2}{n_1} + \\frac{\\sigma_2^2}{n_2}}$$"
   ]
  },
  {
   "cell_type": "markdown",
   "metadata": {},
   "source": [
    "### Estimación por intervalo de la diferencia entre dos medias poblacionales: $\\sigma_1$ Y $\\sigma_2$ conocidas:\n"
   ]
  },
  {
   "cell_type": "markdown",
   "metadata": {},
   "source": [
    "  $$\\bar{x}_1 - \\bar{x}_2 \\pm z_{\\alpha/2} \\sqrt{\\frac{\\sigma_1^2}{n_1} + \\frac{\\sigma_2^2}{n_2}}$$\n",
    "  - donde 1 - $\\alpha/2$ es el coeficiente de confianza."
   ]
  },
  {
   "cell_type": "markdown",
   "metadata": {},
   "source": [
    "### Pruebas de hipótesis"
   ]
  },
  {
   "cell_type": "markdown",
   "metadata": {},
   "source": [
    "$$ H_0 : \\mu_1 - \\mu_2 \\geq D_0 \\quad H_0: \\mu_1 - \\mu_2\\leq D_0 \\quad H_0: \\mu_1 - \\mu_2 = D_0$$\n",
    "$$ H_a : \\mu_1 - \\mu_2 < D_0 \\quad H_a: \\mu_1 - \\mu_2 > D_0 \\quad H_a: \\mu_1 - \\mu_2 \\neq D_0$$"
   ]
  }
 ],
 "metadata": {
  "colab": {
   "include_colab_link": true,
   "provenance": [],
   "toc_visible": true
  },
  "kernelspec": {
   "display_name": "Python 3 (ipykernel)",
   "language": "python",
   "name": "python3"
  },
  "language_info": {
   "codemirror_mode": {
    "name": "ipython",
    "version": 3
   },
   "file_extension": ".py",
   "mimetype": "text/x-python",
   "name": "python",
   "nbconvert_exporter": "python",
   "pygments_lexer": "ipython3",
   "version": "3.10.11"
  }
 },
 "nbformat": 4,
 "nbformat_minor": 1
}
