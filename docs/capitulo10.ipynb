{
 "cells": [
  {
   "cell_type": "markdown",
   "metadata": {
    "colab_type": "text",
    "id": "view-in-github"
   },
   "source": [
    "<a href=\"https://colab.research.google.com/github/CrisBelDev/Notebook_Est2/blob/main/docs/capitulo10.ipynb\" target=\"_parent\"><img src=\"https://colab.research.google.com/assets/colab-badge.svg\" alt=\"Open In Colab\"/></a>"
   ]
  },
  {
   "cell_type": "markdown",
   "metadata": {},
   "source": [
    "<style>\n",
    "  .portada {\n",
    "    background-color: #009929;\n",
    "    color: #FFFFFF;\n",
    "    padding: 20px 0; /* Ajusta este valor para centrar verticalmente como desees */\n",
    "    width: 100%; /* Ancho al 100% para ocupar la parte superior de la pantalla */\n",
    "    box-sizing: border-box; /* Asegura que el padding no añada más ancho */\n",
    "    text-align: center; /* Centra el texto horizontalmente */\n",
    "  }\n",
    "  .portada h1 {\n",
    "    margin: 0;\n",
    "    color: #FFFFFF;\n",
    "    font-size: 6em; /* Tamaño CAPÍTULO 1 */\n",
    "  }\n",
    "  /* Estilos base para .subtitle h2 */\n",
    "  .mayuscula{\n",
    "    text-transform: uppercase; /* Texto en mayúsculas */\n",
    "  }\n",
    "  .subtitle h2{\n",
    "    padding: 5px;\n",
    "    color: #009929; /* Color verde para el texto */\n",
    "    margin-top: 0;\n",
    "    font-weight: normal;\n",
    "    display: inline-block; /* Asegura que el elemento sea en línea y permita el subrayado si se añade */\n",
    "  }\n",
    "  .indice_titulo{\n",
    "    color: #009929;\n",
    "    display:flex;\n",
    "  }\n",
    "  .indice_titulo span{\n",
    "    margin-top: 0;\n",
    "    font-weight: normal;\n",
    "    display: inline-block;\n",
    "  }\n",
    "\n",
    "\n",
    "  /* Clase adicional para añadir cuando se desee el subrayado */\n",
    "  .subrayado h2{\n",
    "    border-bottom: 3px solid #009929; /* Línea verde debajo del texto */\n",
    "    padding-bottom: 5px; /* Espacio entre texto y línea */\n",
    "    width: 100%; /* Asegura que el subrayado se extienda a lo largo de la página */\n",
    "  }\n",
    "    .content_dos_columnas {\n",
    "    padding-top : 20px;\n",
    "    column-count: 2; \n",
    "  }\n",
    "  .content_dos_columnas ul {\n",
    "    list-style-type: none;\n",
    "    padding: 0;\n",
    "    margin-top: 0;\n",
    "  }\n",
    "  .content_dos_columnas ul li {\n",
    "    margin-bottom: 10px; /* Espaciado entre líneas */\n",
    "    font-size: 1em;\n",
    "  }\n",
    "  .content_dos_columnas ul li strong {\n",
    "    font-weight: bold;\n",
    "    display: block; /* Asegura que cada título de sección comience en una nueva línea */\n",
    "    break-inside: avoid-column; /* Evita que los títulos de sección se dividan entre columnas */\n",
    "    -webkit-column-break-inside: avoid; /* Para navegadores basados en WebKit como Safari */\n",
    "    page-break-inside: avoid; /* Para la paginación al imprimir */\n",
    "  }\n",
    "\n",
    "\n",
    "\n",
    "  .md-typeset ul {\n",
    "    list-style-type:square ;\n",
    "}\n",
    "  .md-typeset ul ul{\n",
    "    list-style-type:none ;\n",
    "}\n",
    "/* estilos pára secciones con division (linea de separacion)*/\n",
    "hr {\n",
    "    border-top: 2px solid #009929; /* Línea negra de 1px de grosor */\n",
    "}\n",
    "</style>\n",
    "<div class=\"portada\">\n",
    "  <h1>CAPÍTULO 10</h1>\n",
    "</div>\n",
    "<div class= \"subtitle subrayado mayuscula\">\n",
    "  <h2>Inferencia estadística de medias y proporciones con 2 poblaciones</h2>\n",
    "</div>\n",
    "<div class=\"content_dos_columnas\">     \n",
    "  <ul>\n",
    "    <li><strong>10.1 INFERENCIAS ACERCA DE LA DIFERENCIA ENTRE DOS MEDIAS POBLACIONALES: (\\( \\sigma_1\\) Y  \\(\\sigma_2\\) CONOCIDAS)</strong></li>\n",
    "    <ul>\n",
    "      <li>Estimación por intervalo para: \\(\\mu_1 - \\mu_2\\)  </li>\n",
    "      <li>Pruebas de hipótesis acerca de \\(\\mu_1 - \\mu_2\\)</li>\n",
    "      <li>Consejo práctico</li> \n",
    "    </ul>\n",
    "  </ul>\n",
    "  <ul>\n",
    "    <li><strong>10.2 INFERENCIAS ACERCA DE LA DIFERENCIA ENTRE DOS MEDIAS POBLACIONALES:\\( \\sigma_1\\) y  \\(\\sigma_2\\) DESCONOCIDAS</strong></li>\n",
    "    <ul>\n",
    "      <li>Estimación por intervalo para: \\(\\mu_1 - \\mu_2\\)  </li>\n",
    "      <li>Pruebas de hipótesis acerca de \\(\\mu_1 - \\mu_2\\)</li>\n",
    "      <li>Consejo práctico</li> \n",
    "    </ul>\n",
    "  </ul>\n",
    "  <ul>\n",
    "    <li><strong>10.3 INFERENCIAS ACERCA DE LA DIFERENCIA ENTRE DOS MEDIAS POBLACIONALES: MUESTRAS PAREADAS</strong></li>\n",
    "  </ul>\n",
    "  <ul>\n",
    "    <li><strong>10.4 INFERENCIAS ACERCA DE LA DIFERENCIA ENTRE DOS PROPORCIONES POBLACIONALES</strong></li>\n",
    "    <ul>\n",
    "      <li>Estimación por intervalo para: \\(p_1 - p_2\\)  </li>\n",
    "      <li>Pruebas de hipótesis acerca de \\(p_1 - p_2\\)</li>\n",
    "    </ul>\n",
    "  </ul>\n",
    "</div>"
   ]
  },
  {
   "cell_type": "markdown",
   "metadata": {},
   "source": [
    "<style>\n",
    "    span.section-number {\n",
    "  background-color: #ffffff00; /* El color de fondo naranja claro */\n",
    "  border: 2px solid #009929; /* El borde sólido más oscuro */\n",
    "  border-radius: 50%; /* Hace que el fondo sea circular */\n",
    "  color: #009929; /* El color del texto naranja */\n",
    "  font-weight: bold; /* Hace que el texto sea negrita */\n",
    "  padding: 0.5em; /* Espacio alrededor del texto */\n",
    "  display: inline-flex; /* Usa flexbox para centrar el contenido */\n",
    "  justify-content: center; /* Centra horizontalmente el contenido en el flexbox */\n",
    "  align-items: center; /* Centra verticalmente el contenido en el flexbox */\n",
    "  width: 1.5em; /* Ancho fijo para el círculo */\n",
    "  height: 1.5em; /* Altura fija para el círculo */\n",
    "  font-size: 1em; /* Tamaño del texto relativo al tamaño de fuente del contenedor */\n",
    "  box-shadow: 0 4px 8px rgba(0, 0, 0, 0.1); /* Sombra ligera para dar profundidad */\n",
    "  margin-right: 0.5em; /* Espacio a la derecha del número de sección */\n",
    "}\n",
    "\n",
    "</style>\n",
    "## <div class = \"indice_titulo\"><span class=\"section-number\">10.1</span> **Inferencias acerca de la diferencia entre dos medias poblacionales: $\\sigma_1$ y $\\sigma_2$ conocidas**</div>\n"
   ]
  },
  {
   "cell_type": "markdown",
   "metadata": {},
   "source": [
    "- Sean $\\sigma_1$ y $\\sigma_2$ las medias poblacionales a estudiar.\n",
    "- La inferencia se realiza sobre la diferencia de las medias $\\mu_1 - \\mu_2$.\n",
    "- Se toma un tamaño de muestra para cada población (muestra aleatoria simple e independiente) $n_1$ y $n_2$ respectivamente.\n",
    "- Suponga que $\\sigma_1$ y $\\sigma_2$ son conocidas.\n",
    "\n",
    "Las medias poblacionales son teóricas. En la práctica se calculan las medias muestrales $\\bar{x_1}$ y $\\bar{x_2}$."
   ]
  },
  {
   "cell_type": "markdown",
   "metadata": {},
   "source": [
    "### <div class = \"indice_titulo\">**Estimación por intervalo para $\\mu_1 - \\mu_2$**</div>\n"
   ]
  },
  {
   "cell_type": "markdown",
   "metadata": {},
   "source": [
    "**Análisis Demográfico de Clientes en Greystone Department Stores**\n",
    "\n",
    "- Introducción\n",
    "  \n",
    "  - Greystone Department Stores ha observado una variación en los patrones de venta entre sus tiendas en el centro de la ciudad y en un centro comercial suburbano en Buffalo, Nueva York. Se sospecha que las diferencias demográficas entre los clientes de las dos tiendas, como la edad, educación e ingreso, pueden influir en este fenómeno.\n",
    "\n",
    "- Objetivo del Estudio\n",
    "  \n",
    "  - El estudio tiene como objetivo investigar si hay una diferencia significativa en las edades medias de los clientes entre las dos tiendas.\n",
    "\n",
    "- Metodología\n",
    "  \n",
    "  - Se identifican dos poblaciones de clientes basadas en su ubicación de compra.\n",
    "  - La estimación puntual de la diferencia entre las medias poblacionales se obtiene a través de la diferencia entre las medias muestrales, $ \\bar{X}_1 - \\bar{X}_2 $.\n",
    "  - El error estándar del estimador puntual, que indica la variabilidad en la distribución de muestreo del estimador, se calcula como $ \\sigma_{\\bar{X}_1 - \\bar{X}_2} = \\sqrt{\\frac{\\sigma^2_1}{n_1} + \\frac{\\sigma^2_2}{n_2}} $.\n",
    "  - Se asume una distribución normal de la diferencia entre las medias muestrales, especialmente si las poblaciones tienen una distribución normal o los tamaños de muestra son grandes.\n",
    "\n",
    "- Conclusión Esperada\n",
    "  \n",
    "  - La investigación proporcionará una estimación de la diferencia entre las medias de edad de los clientes, lo que podría permitir ajustar las estrategias de marketing y mejorar la selección de productos para cada tienda según su clientela.\n"
   ]
  },
  {
   "cell_type": "markdown",
   "metadata": {},
   "source": [
    "**ESTIMADOR PUNTUAL DE LA DIFERENCIA ENTRE DOS MEDIAS POBLACIONALES**\n",
    "$$\n",
    "\\bar{x}_1 - \\bar{x}_2 \\tag{10.1}\n",
    "$$\n"
   ]
  },
  {
   "cell_type": "markdown",
   "metadata": {
    "id": "KjSdy0w8kWWY"
   },
   "source": [
    "**ERROR ESTÁNDAR DE $\\bar{x}_1 - \\bar{x}_2$**\n"
   ]
  },
  {
   "cell_type": "markdown",
   "metadata": {},
   "source": [
    "$$\\sigma_{\\bar{x}_1 - \\bar{x}_2} = \\sqrt{\\frac{\\sigma_1^2}{n_1} + \\frac{\\sigma_2^2}{n_2}} \\tag{10.2}$$"
   ]
  },
  {
   "cell_type": "markdown",
   "metadata": {},
   "source": [
    "**MARGEN DE ERROR**"
   ]
  },
  {
   "cell_type": "markdown",
   "metadata": {},
   "source": [
    "$$\\text{Margen de error} = z_{\\alpha/2} \\sigma_{\\bar{x}_1 - \\bar{x}_2} = z_{\\alpha/2} \\sqrt{\\frac{\\sigma_1^2}{n_1} + \\frac{\\sigma_2^2}{n_2}}\\tag{10.3}$$"
   ]
  },
  {
   "cell_type": "markdown",
   "metadata": {},
   "source": [
    "**ESTIMACIÓN POR INTERVALO DE LA DIFERENCIA ENTRE DOS MEDIAS POBLACIONALES $\\sigma_1$ Y $\\sigma_2$ CONOCIDAS:**\n"
   ]
  },
  {
   "cell_type": "markdown",
   "metadata": {},
   "source": [
    "  $$\\bar{x}_1 - \\bar{x}_2 \\pm z_{\\alpha/2} \\sqrt{\\frac{\\sigma_1^2}{n_1} + \\frac{\\sigma_2^2}{n_2}}\\tag{10.4}$$\n",
    "  - donde 1 - $\\alpha/2$ es el coeficiente de confianza."
   ]
  },
  {
   "cell_type": "markdown",
   "metadata": {},
   "source": [
    "___\n",
    "**Estimación por Intervalo para Greystone Department Stores**\n",
    "\n",
    "- Resumen de Datos\n",
    "  - **Tienda del centro de la ciudad**: $n_1 = 36$, $\\bar{x}_1 = 40$ años\n",
    "  - **Tienda suburbana**: $n_2 = 49$, $\\bar{x}_2 = 35$ años\n",
    "  - **Desviaciones estándar conocidas**: $\\sigma_1 = 9$ años, $\\sigma_2 = 10$ años\n",
    "\n",
    "- Estimación Puntual\n",
    "  - La diferencia entre las medias muestrales es $\\bar{x}_1 - \\bar{x}_2 = 5$ años.\n",
    "\n",
    "- Error Estándar y Margen de Error\n",
    "\n",
    "  - Con un 95% de confianza y $z_{\\alpha/2} = z_{0.025} = 1.96$, el error estándar y el margen de error se calculan como:\n",
    "\n",
    "$$\n",
    "\\bar{x}_1 - \\bar{x}_2 \\pm z_{\\alpha/2} \\sqrt{\\frac{\\sigma_1^2}{n_1} + \\frac{\\sigma_2^2}{n_2}} = 40 - 35 \\pm 1.96 \\sqrt{\\frac{9^2}{36} + \\frac{10^2}{49}}\n",
    "$$\n",
    "\n",
    "  - Esto resulta en un margen de error de $4.06$ y un intervalo de confianza al 95% para la diferencia entre las medias poblacionales de:\n",
    "\n",
    "$$\n",
    "5 \\pm 4.06\n",
    "$$\n",
    "\n",
    "  - Lo que nos da un intervalo de $0.94$ a $9.06$ años.\n",
    "___\n"
   ]
  },
  {
   "cell_type": "markdown",
   "metadata": {},
   "source": [
    "### Pruebas de hipótesis"
   ]
  },
  {
   "cell_type": "markdown",
   "metadata": {},
   "source": [
    "$$ H_0 : \\mu_1 - \\mu_2 \\geq D_0 \\quad H_0: \\mu_1 - \\mu_2\\leq D_0 \\quad H_0: \\mu_1 - \\mu_2 = D_0$$\n",
    "$$ H_a : \\mu_1 - \\mu_2 < D_0 \\quad H_a: \\mu_1 - \\mu_2 > D_0 \\quad H_a: \\mu_1 - \\mu_2 \\neq D_0$$"
   ]
  },
  {
   "cell_type": "markdown",
   "metadata": {},
   "source": [
    "Ejercicio:"
   ]
  },
  {
   "cell_type": "markdown",
   "metadata": {},
   "source": [
    "1. Los resultados siguientes provienen de muestras aleatorias simples independientes tomadas de dos poblaciones.\n",
    "\n",
    "| Muestra 1 | Muestra 2 |\n",
    "|-----------|-----------|\n",
    "| n1 = 50   | n2 = 35   |\n",
    "| x̄1 = 13.6 | x̄2 = 11.6 |\n",
    "| s1 = 2.2  | s2 = 3.0  |\n"
   ]
  },
  {
   "cell_type": "markdown",
   "metadata": {},
   "source": [
    "a) ¿Cuál es la estimación puntual de la diferencia entre las dos medias poblacionales?"
   ]
  },
  {
   "cell_type": "code",
   "execution_count": 7,
   "metadata": {},
   "outputs": [
    {
     "name": "stdout",
     "output_type": "stream",
     "text": [
      "Estimación puntual (a): 2.0\n"
     ]
    }
   ],
   "source": [
    "# Datos de las muestras\n",
    "n1, x_bar1, s1 = 50, 13.6, 2.2\n",
    "n2, x_bar2, s2 = 35, 11.6, 3.0\n",
    "\n",
    "# Estimación puntual de la diferencia de medias\n",
    "point_estimate = x_bar1 - x_bar2\n",
    "print(f\"Estimación puntual (a): {point_estimate}\")\n"
   ]
  },
  {
   "cell_type": "markdown",
   "metadata": {},
   "source": [
    "b) Proporcione un intervalo de 90% de confianza para la diferencia entre las dos medias poblacionales."
   ]
  },
  {
   "cell_type": "code",
   "execution_count": 8,
   "metadata": {},
   "outputs": [
    {
     "name": "stdout",
     "output_type": "stream",
     "text": [
      "Z:  1.6448536269514722\n",
      "Margen error Z:  0.978574361132911\n",
      "Intervalo confianza:  (1.021425638867089, 2.978574361132911)\n"
     ]
    }
   ],
   "source": [
    "from scipy import stats\n",
    "import numpy as np\n",
    "\n",
    "# Datos proporcionados\n",
    "n1 = 50  # Tamaño de la muestra 1\n",
    "x1 = 13.6  # Media muestral 1\n",
    "s1 = 2.2  # Desviación estándar muestral 1\n",
    "\n",
    "n2 = 35  # Tamaño de la muestra 2\n",
    "x2 = 11.6  # Media muestral 2\n",
    "s2 = 3.0  # Desviación estándar muestral 2\n",
    "\n",
    "z = 0.90 # z al 90%\n",
    "\n",
    "def calcular_intervalo_confianza(n1, x1, s1, n2, x2, s2, confianza):\n",
    "    # Estimación puntual de la diferencia entre las medias poblacionales\n",
    "    estimacion_puntual = x1 - x2\n",
    "    \n",
    "    # Valor z para el intervalo de confianza dado\n",
    "    z_value = stats.norm.ppf(1 - (1 - confianza) / 2)\n",
    "    \n",
    "    # Cálculo del margen de error con el valor z\n",
    "    error_margin = z_value * np.sqrt((s1**2 / n1) + (s2**2 / n2))\n",
    "    \n",
    "    # Intervalo de confianza con el valor z\n",
    "    intervalo_confianza = (estimacion_puntual - error_margin, estimacion_puntual + error_margin)\n",
    "    print(\"Z: \",z_value)\n",
    "    print(\"Margen error Z: \",error_margin)\n",
    "    print(\"Intervalo confianza: \",intervalo_confianza)\n",
    "\n",
    "calcular_intervalo_confianza(n1,x1,s1,n2,x2,s2,z)\n",
    "\n"
   ]
  },
  {
   "cell_type": "markdown",
   "metadata": {},
   "source": [
    "c) Proporcione un intervalo de 95% de confianza para la diferencia entre las dos medias poblacionales."
   ]
  },
  {
   "cell_type": "code",
   "execution_count": 9,
   "metadata": {},
   "outputs": [
    {
     "name": "stdout",
     "output_type": "stream",
     "text": [
      "Z:  1.959963984540054\n",
      "Margen error Z:  1.1660432713210558\n",
      "Intervalo confianza:  (0.8339567286789442, 3.1660432713210556)\n"
     ]
    }
   ],
   "source": [
    "# Datos proporcionados\n",
    "n1 = 50  # Tamaño de la muestra 1\n",
    "x1 = 13.6  # Media muestral 1\n",
    "s1 = 2.2  # Desviación estándar muestral 1\n",
    "\n",
    "n2 = 35  # Tamaño de la muestra 2\n",
    "x2 = 11.6  # Media muestral 2\n",
    "s2 = 3.0  # Desviación estándar muestral 2\n",
    "\n",
    "z = 0.95 # z al 95%\n",
    "calcular_intervalo_confianza(n1,x1,s1,n2,x2,s2,z)"
   ]
  }
 ],
 "metadata": {
  "colab": {
   "include_colab_link": true,
   "provenance": [],
   "toc_visible": true
  },
  "kernelspec": {
   "display_name": "Python 3 (ipykernel)",
   "language": "python",
   "name": "python3"
  },
  "language_info": {
   "codemirror_mode": {
    "name": "ipython",
    "version": 3
   },
   "file_extension": ".py",
   "mimetype": "text/x-python",
   "name": "python",
   "nbconvert_exporter": "python",
   "pygments_lexer": "ipython3",
   "version": "3.10.11"
  }
 },
 "nbformat": 4,
 "nbformat_minor": 1
}
