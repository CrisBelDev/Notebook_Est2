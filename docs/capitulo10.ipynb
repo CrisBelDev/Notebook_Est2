{
 "cells": [
  {
   "cell_type": "markdown",
   "metadata": {
    "colab_type": "text",
    "id": "view-in-github"
   },
   "source": [
    "<a href=\"https://colab.research.google.com/github/CrisBelDev/Notebook_Est2/blob/main/notebook_est2.ipynb\" target=\"_parent\"><img src=\"https://colab.research.google.com/assets/colab-badge.svg\" alt=\"Open In Colab\"/></a>"
   ]
  },
  {
   "cell_type": "markdown",
   "metadata": {
    "id": "JHSPrGHpkWWT"
   },
   "source": [
    "# Capitulo 10: **Inferencia estadística de medias y proporciones con 2 poblaciones**"
   ]
  },
  {
   "cell_type": "markdown",
   "metadata": {
    "id": "_8euGoABkWWX"
   },
   "source": [
    "## Inferencias acerca de la diferencia entre dos medias poblacionales: ($\\sigma_1$ y $\\sigma_2$ conocidas)"
   ]
  },
  {
   "cell_type": "markdown",
   "metadata": {},
   "source": [
    "- Sean $\\sigma_1$ y $\\sigma_2$ las medias poblacionales a estudiar.\n",
    "- La inferencia se realiza sobre la diferencia de las medias $\\mu_1 - \\mu_2$.\n",
    "- Se toma un tamaño de muestra para cada población (muestra aleatoria simple e independiente) $n_1$ y $n_2$ respectivamente.\n",
    "- Suponga que $\\sigma_1$ y $\\sigma_2$ son conocidas.\n",
    "\n",
    "Las medias poblacionales son teóricas. En la práctica se calculan las medias muestrales $\\bar{x_1}$ y $\\bar{x_2}$."
   ]
  },
  {
   "cell_type": "markdown",
   "metadata": {},
   "source": [
    "### **estimador puntual** de la diferencia de dos medias poblacionales:\n"
   ]
  },
  {
   "cell_type": "markdown",
   "metadata": {},
   "source": [
    "  $$ \\bar{x_1} - \\bar{x_2} $$"
   ]
  },
  {
   "cell_type": "markdown",
   "metadata": {
    "id": "KjSdy0w8kWWY"
   },
   "source": [
    "### $\\textbf{Error estandar}$ del estimador puntual:\n"
   ]
  },
  {
   "cell_type": "markdown",
   "metadata": {},
   "source": [
    "$$\\sigma_{\\bar{x}_1 - \\bar{x}_2} = \\sqrt{\\frac{\\sigma_1^2}{n_1} + \\frac{\\sigma_2^2}{n_2}}$$"
   ]
  },
  {
   "cell_type": "markdown",
   "metadata": {},
   "source": [
    "### Estimacion por intervalo de la diferencia entre dos medias poblacionales con $\\sigma_1$, $\\sigma_2$ conocidas:"
   ]
  },
  {
   "cell_type": "markdown",
   "metadata": {},
   "source": [
    "$$\\text{Margen de error} = z_{\\alpha/2} \\sigma_{\\bar{x}_1 - \\bar{x}_2} = z_{\\alpha/2} \\sqrt{\\frac{\\sigma_1^2}{n_1} + \\frac{\\sigma_2^2}{n_2}}$$"
   ]
  },
  {
   "cell_type": "markdown",
   "metadata": {},
   "source": [
    "### Estimación por intervalo de la diferencia entre dos medias poblacionales: $\\sigma_1$ Y $\\sigma_2$ conocidas:\n"
   ]
  },
  {
   "cell_type": "markdown",
   "metadata": {},
   "source": [
    "  $$\\bar{x}_1 - \\bar{x}_2 \\pm z_{\\alpha/2} \\sqrt{\\frac{\\sigma_1^2}{n_1} + \\frac{\\sigma_2^2}{n_2}}$$\n",
    "  - donde 1 - $\\alpha/2$ es el coeficiente de confianza."
   ]
  },
  {
   "cell_type": "markdown",
   "metadata": {},
   "source": [
    "### Pruebas de hipótesis"
   ]
  },
  {
   "cell_type": "markdown",
   "metadata": {},
   "source": [
    "$$ H_0 : \\mu_1 - \\mu_2 \\geq D_0 \\quad H_0: \\mu_1 - \\mu_2\\leq D_0 \\quad H_0: \\mu_1 - \\mu_2 = D_0$$\n",
    "$$ H_a : \\mu_1 - \\mu_2 < D_0 \\quad H_a: \\mu_1 - \\mu_2 > D_0 \\quad H_a: \\mu_1 - \\mu_2 \\neq D_0$$"
   ]
  },
  {
   "cell_type": "markdown",
   "metadata": {},
   "source": [
    "Ejercicio:"
   ]
  },
  {
   "cell_type": "markdown",
   "metadata": {},
   "source": [
    "1. Los resultados siguientes provienen de muestras aleatorias simples independientes tomadas de dos poblaciones.\n",
    "\n",
    "| Muestra 1 | Muestra 2 |\n",
    "|-----------|-----------|\n",
    "| n1 = 50   | n2 = 35   |\n",
    "| x̄1 = 13.6 | x̄2 = 11.6 |\n",
    "| s1 = 2.2  | s2 = 3.0  |\n"
   ]
  },
  {
   "cell_type": "markdown",
   "metadata": {},
   "source": [
    "a) ¿Cuál es la estimación puntual de la diferencia entre las dos medias poblacionales?"
   ]
  },
  {
   "cell_type": "code",
   "execution_count": 1,
   "metadata": {},
   "outputs": [
    {
     "name": "stdout",
     "output_type": "stream",
     "text": [
      "Estimación puntual (a): 2.0\n"
     ]
    }
   ],
   "source": [
    "# Datos de las muestras\n",
    "n1, x_bar1, s1 = 50, 13.6, 2.2\n",
    "n2, x_bar2, s2 = 35, 11.6, 3.0\n",
    "\n",
    "# Estimación puntual de la diferencia de medias\n",
    "point_estimate = x_bar1 - x_bar2\n",
    "print(f\"Estimación puntual (a): {point_estimate}\")\n"
   ]
  },
  {
   "cell_type": "markdown",
   "metadata": {},
   "source": [
    "b) Proporcione un intervalo de 90% de confianza para la diferencia entre las dos medias poblacionales."
   ]
  },
  {
   "cell_type": "code",
   "execution_count": 16,
   "metadata": {},
   "outputs": [
    {
     "name": "stdout",
     "output_type": "stream",
     "text": [
      "Intervalo de confianza del 90% (b): (1.00572019113286, 2.99427980886714)\n"
     ]
    },
    {
     "data": {
      "image/png": "[encoded data removed]",
      "text/plain": [
       "<Figure size 800x400 with 1 Axes>"
      ]
     },
     "metadata": {},
     "output_type": "display_data"
    }
   ],
   "source": [
    "import numpy as np\n",
    "from scipy import stats\n",
    "import matplotlib.pyplot as plt\n",
    "\n",
    "# Datos de las muestras\n",
    "n1, x_bar1, s1 = 50, 13.6, 2.2\n",
    "n2, x_bar2, s2 = 35, 11.6, 3.0\n",
    "\n",
    "# Estimación puntual de la diferencia de medias\n",
    "point_estimate = x_bar1 - x_bar2\n",
    "\n",
    "# Error estándar de la diferencia de medias\n",
    "se_diff = np.sqrt((s1**2 / n1) + (s2**2 / n2))\n",
    "\n",
    "# Función para calcular el valor crítico t\n",
    "def t_critical_value(confidence_level, df):\n",
    "    alpha = 1 - confidence_level\n",
    "    t_critical = stats.t.ppf(1 - alpha/2, df)\n",
    "    return t_critical\n",
    "\n",
    "# Grados de libertad\n",
    "df = ((s1**2/n1 + s2**2/n2)**2) / (((s1**2/n1)**2)/(n1-1) + ((s2**2/n2)**2)/(n2-1))\n",
    "\n",
    "# Valor crítico t para el nivel de confianza del 90%\n",
    "t_critical_90 = t_critical_value(0.90, df)\n",
    "\n",
    "# Margen de error para el intervalo de confianza del 90%\n",
    "margin_error_90 = t_critical_90 * se_diff\n",
    "\n",
    "# Calcular el intervalo de confianza del 90%\n",
    "ci_90_lower = point_estimate - margin_error_90\n",
    "ci_90_upper = point_estimate + margin_error_90\n",
    "\n",
    "# Resultado\n",
    "ci_90 = (ci_90_lower, ci_90_upper)\n",
    "print(f\"Intervalo de confianza del 90% (b): {ci_90}\")\n",
    "\n",
    "# Graficar el intervalo de confianza del 90%\n",
    "\n",
    "# Configurar el estilo de la gráfica\n",
    "#plt.style.use('seaborn-darkgrid')\n",
    "\n",
    "# Crear figura y eje\n",
    "fig, ax = plt.subplots(figsize=(8, 4))\n",
    "\n",
    "# Estimación puntual y barras de error\n",
    "ax.errorbar(1, point_estimate, yerr=[[point_estimate - ci_90_lower], [ci_90_upper - point_estimate]], \n",
    "            fmt='o', color='black', ecolor='red', capsize=10, elinewidth=2)\n",
    "\n",
    "# Título y etiquetas\n",
    "ax.set_title('Intervalo de Confianza del 90% para la Diferencia de Medias')\n",
    "ax.set_ylabel('Diferencia de medias')\n",
    "ax.set_xticks([])\n",
    "ax.set_xticklabels([])\n",
    "\n",
    "# Eliminar marcas del eje x\n",
    "#ax.xaxis.set_ticks_position('none') \n",
    "\n",
    "# Mostrar la gráfica\n",
    "plt.show()\n",
    "\n"
   ]
  },
  {
   "cell_type": "markdown",
   "metadata": {},
   "source": [
    "c) Proporcione un intervalo de 95% de confianza para la diferencia entre las dos medias poblacionales."
   ]
  },
  {
   "cell_type": "code",
   "execution_count": 17,
   "metadata": {},
   "outputs": [
    {
     "name": "stdout",
     "output_type": "stream",
     "text": [
      "Intervalo de confianza del 95% (c): (0.8093969654052469, 3.190603034594753)\n"
     ]
    }
   ],
   "source": [
    "# Valor crítico t para el nivel de confianza del 95%\n",
    "t_critical_95 = t_critical_value(0.95, df)\n",
    "\n",
    "# Margen de error para el intervalo de confianza del 95%\n",
    "margin_error_95 = t_critical_95 * se_diff\n",
    "\n",
    "# Calcular el intervalo de confianza del 95%\n",
    "ci_95_lower = point_estimate - margin_error_95\n",
    "ci_95_upper = point_estimate + margin_error_95\n",
    "\n",
    "# Resultado\n",
    "ci_95 = (ci_95_lower, ci_95_upper)\n",
    "print(f\"Intervalo de confianza del 95% (c): {ci_95}\")\n"
   ]
  }
 ],
 "metadata": {
  "colab": {
   "include_colab_link": true,
   "provenance": [],
   "toc_visible": true
  },
  "kernelspec": {
   "display_name": "Python 3 (ipykernel)",
   "language": "python",
   "name": "python3"
  },
  "language_info": {
   "codemirror_mode": {
    "name": "ipython",
    "version": 3
   },
   "file_extension": ".py",
   "mimetype": "text/x-python",
   "name": "python",
   "nbconvert_exporter": "python",
   "pygments_lexer": "ipython3",
   "version": "3.10.11"
  }
 },
 "nbformat": 4,
 "nbformat_minor": 1
}
